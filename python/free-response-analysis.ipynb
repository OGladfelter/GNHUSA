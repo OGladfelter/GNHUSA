{
 "cells": [
  {
   "cell_type": "code",
   "execution_count": 5,
   "id": "8f93c8a8",
   "metadata": {},
   "outputs": [],
   "source": [
    "import pandas as pd\n",
    "import re\n",
    "\n",
    "df = pd.read_csv(\"../data/data.csv\")"
   ]
  },
  {
   "cell_type": "markdown",
   "id": "323b5a76",
   "metadata": {},
   "source": [
    "## Useful resource: A 10,000-mile Happiness Walk Identifies Wellbeing Domains of the USA\n",
    "https://gnhusa.org/wp-content/uploads/2022/03/Happiness-Walk-Report.pdf"
   ]
  },
  {
   "cell_type": "markdown",
   "id": "3bf1ee24",
   "metadata": {},
   "source": [
    "# Q6: \"what makes you happy?\""
   ]
  },
  {
   "cell_type": "code",
   "execution_count": 6,
   "id": "bdf4d9a9",
   "metadata": {},
   "outputs": [],
   "source": [
    "def evalFreeResponse(freeResponseAnswer, arrayOfWords):\n",
    "    \"\"\"\n",
    "    if the free response answer contains any words in the arrayOfWords param, return 1\n",
    "    \"\"\"\n",
    "    for word in arrayOfWords:\n",
    "        search = r'(?:^|\\W){}(?:$|\\W)'.format(word)\n",
    "        if re.search(search, freeResponseAnswer.lower()):\n",
    "            return 1\n",
    "    return 0"
   ]
  },
  {
   "cell_type": "markdown",
   "id": "2d6e08ea",
   "metadata": {},
   "source": [
    "## family and religion\n",
    "### Two factors which raise happiness"
   ]
  },
  {
   "cell_type": "code",
   "execution_count": 7,
   "id": "ffc93678",
   "metadata": {},
   "outputs": [],
   "source": [
    "# create array of words for each happiness 'domain' to group free response questions by\n",
    "family = ['family', 'husband', 'wife', 'daughter', 'son', 'granddaughter', 'grandson', 'grandchildren', 'my children']\n",
    "religion = ['god', 'lord', 'church', 'prayer', 'bible', 'jesus', 'faith', 'christian', 'temple', 'religion']\n",
    "\n",
    "df['family'] = df['Q6'].apply(evalFreeResponse, args=(family,))\n",
    "df['religion'] = df['Q6'].apply(evalFreeResponse, args=(religion,))"
   ]
  },
  {
   "cell_type": "code",
   "execution_count": 8,
   "id": "c603cc3b",
   "metadata": {},
   "outputs": [
    {
     "name": "stdout",
     "output_type": "stream",
     "text": [
      "45.06\n",
      "4.54\n"
     ]
    }
   ],
   "source": [
    "print(len(df[df['family']==1]) / len(df) * 100) # 45% of respondents mentioned family\n",
    "print(len(df[df['religion']==1]) / len(df) * 100) # 4% mentioned religion"
   ]
  },
  {
   "cell_type": "code",
   "execution_count": 9,
   "id": "fa770e66",
   "metadata": {},
   "outputs": [
    {
     "data": {
      "text/html": [
       "<div>\n",
       "<style scoped>\n",
       "    .dataframe tbody tr th:only-of-type {\n",
       "        vertical-align: middle;\n",
       "    }\n",
       "\n",
       "    .dataframe tbody tr th {\n",
       "        vertical-align: top;\n",
       "    }\n",
       "\n",
       "    .dataframe thead th {\n",
       "        text-align: right;\n",
       "    }\n",
       "</style>\n",
       "<table border=\"1\" class=\"dataframe\">\n",
       "  <thead>\n",
       "    <tr style=\"text-align: right;\">\n",
       "      <th></th>\n",
       "      <th>family</th>\n",
       "      <th>religion</th>\n",
       "    </tr>\n",
       "    <tr>\n",
       "      <th>Age_groups</th>\n",
       "      <th></th>\n",
       "      <th></th>\n",
       "    </tr>\n",
       "  </thead>\n",
       "  <tbody>\n",
       "    <tr>\n",
       "      <th>45+</th>\n",
       "      <td>48.441511</td>\n",
       "      <td>6.343968</td>\n",
       "    </tr>\n",
       "    <tr>\n",
       "      <th>&lt;45</th>\n",
       "      <td>41.003080</td>\n",
       "      <td>2.375715</td>\n",
       "    </tr>\n",
       "  </tbody>\n",
       "</table>\n",
       "</div>"
      ],
      "text/plain": [
       "               family  religion\n",
       "Age_groups                     \n",
       "45+         48.441511  6.343968\n",
       "<45         41.003080  2.375715"
      ]
     },
     "execution_count": 9,
     "metadata": {},
     "output_type": "execute_result"
    }
   ],
   "source": [
    "# older age groups are more likely to mention family, religion\n",
    "df.groupby('Age_groups').mean()[['family', 'religion']] * 100"
   ]
  },
  {
   "cell_type": "code",
   "execution_count": 10,
   "id": "d5efbed4",
   "metadata": {},
   "outputs": [
    {
     "data": {
      "text/html": [
       "<div>\n",
       "<style scoped>\n",
       "    .dataframe tbody tr th:only-of-type {\n",
       "        vertical-align: middle;\n",
       "    }\n",
       "\n",
       "    .dataframe tbody tr th {\n",
       "        vertical-align: top;\n",
       "    }\n",
       "\n",
       "    .dataframe thead th {\n",
       "        text-align: right;\n",
       "    }\n",
       "</style>\n",
       "<table border=\"1\" class=\"dataframe\">\n",
       "  <thead>\n",
       "    <tr style=\"text-align: right;\">\n",
       "      <th></th>\n",
       "      <th>family</th>\n",
       "      <th>religion</th>\n",
       "    </tr>\n",
       "    <tr>\n",
       "      <th>MRK_Age</th>\n",
       "      <th></th>\n",
       "      <th></th>\n",
       "    </tr>\n",
       "  </thead>\n",
       "  <tbody>\n",
       "    <tr>\n",
       "      <th>18-24</th>\n",
       "      <td>31.967213</td>\n",
       "      <td>3.442623</td>\n",
       "    </tr>\n",
       "    <tr>\n",
       "      <th>25-34</th>\n",
       "      <td>38.760632</td>\n",
       "      <td>0.972053</td>\n",
       "    </tr>\n",
       "    <tr>\n",
       "      <th>35-44</th>\n",
       "      <td>49.761905</td>\n",
       "      <td>2.976190</td>\n",
       "    </tr>\n",
       "    <tr>\n",
       "      <th>45-54</th>\n",
       "      <td>48.327566</td>\n",
       "      <td>5.074971</td>\n",
       "    </tr>\n",
       "    <tr>\n",
       "      <th>55-64</th>\n",
       "      <td>45.764576</td>\n",
       "      <td>4.510451</td>\n",
       "    </tr>\n",
       "    <tr>\n",
       "      <th>65+</th>\n",
       "      <td>51.104101</td>\n",
       "      <td>9.253417</td>\n",
       "    </tr>\n",
       "  </tbody>\n",
       "</table>\n",
       "</div>"
      ],
      "text/plain": [
       "            family  religion\n",
       "MRK_Age                     \n",
       "18-24    31.967213  3.442623\n",
       "25-34    38.760632  0.972053\n",
       "35-44    49.761905  2.976190\n",
       "45-54    48.327566  5.074971\n",
       "55-64    45.764576  4.510451\n",
       "65+      51.104101  9.253417"
      ]
     },
     "execution_count": 10,
     "metadata": {},
     "output_type": "execute_result"
    }
   ],
   "source": [
    "# older age groups are more likely to mention family, religion\n",
    "df.groupby('MRK_Age').mean()[['family', 'religion']] * 100"
   ]
  },
  {
   "cell_type": "code",
   "execution_count": 11,
   "id": "bfb99483",
   "metadata": {},
   "outputs": [
    {
     "data": {
      "text/html": [
       "<div>\n",
       "<style scoped>\n",
       "    .dataframe tbody tr th:only-of-type {\n",
       "        vertical-align: middle;\n",
       "    }\n",
       "\n",
       "    .dataframe tbody tr th {\n",
       "        vertical-align: top;\n",
       "    }\n",
       "\n",
       "    .dataframe thead th {\n",
       "        text-align: right;\n",
       "    }\n",
       "</style>\n",
       "<table border=\"1\" class=\"dataframe\">\n",
       "  <thead>\n",
       "    <tr style=\"text-align: right;\">\n",
       "      <th></th>\n",
       "      <th>happiness</th>\n",
       "      <th>anxiety</th>\n",
       "      <th>lifeSat</th>\n",
       "    </tr>\n",
       "    <tr>\n",
       "      <th>family</th>\n",
       "      <th></th>\n",
       "      <th></th>\n",
       "      <th></th>\n",
       "    </tr>\n",
       "  </thead>\n",
       "  <tbody>\n",
       "    <tr>\n",
       "      <th>0</th>\n",
       "      <td>6.237350</td>\n",
       "      <td>4.443757</td>\n",
       "      <td>6.126684</td>\n",
       "    </tr>\n",
       "    <tr>\n",
       "      <th>1</th>\n",
       "      <td>7.229916</td>\n",
       "      <td>3.964936</td>\n",
       "      <td>7.059920</td>\n",
       "    </tr>\n",
       "  </tbody>\n",
       "</table>\n",
       "</div>"
      ],
      "text/plain": [
       "        happiness   anxiety   lifeSat\n",
       "family                               \n",
       "0        6.237350  4.443757  6.126684\n",
       "1        7.229916  3.964936  7.059920"
      ]
     },
     "execution_count": 11,
     "metadata": {},
     "output_type": "execute_result"
    }
   ],
   "source": [
    "# those who mention family in Q6 are happier than those who didn't\n",
    "df.groupby('family').mean()[['happiness', 'anxiety', 'lifeSat']]"
   ]
  },
  {
   "cell_type": "code",
   "execution_count": 12,
   "id": "3eb2b07e",
   "metadata": {},
   "outputs": [
    {
     "data": {
      "text/html": [
       "<div>\n",
       "<style scoped>\n",
       "    .dataframe tbody tr th:only-of-type {\n",
       "        vertical-align: middle;\n",
       "    }\n",
       "\n",
       "    .dataframe tbody tr th {\n",
       "        vertical-align: top;\n",
       "    }\n",
       "\n",
       "    .dataframe thead th {\n",
       "        text-align: right;\n",
       "    }\n",
       "</style>\n",
       "<table border=\"1\" class=\"dataframe\">\n",
       "  <thead>\n",
       "    <tr style=\"text-align: right;\">\n",
       "      <th></th>\n",
       "      <th>happiness</th>\n",
       "      <th>anxiety</th>\n",
       "      <th>lifeSat</th>\n",
       "    </tr>\n",
       "    <tr>\n",
       "      <th>religion</th>\n",
       "      <th></th>\n",
       "      <th></th>\n",
       "      <th></th>\n",
       "    </tr>\n",
       "  </thead>\n",
       "  <tbody>\n",
       "    <tr>\n",
       "      <th>0</th>\n",
       "      <td>6.618898</td>\n",
       "      <td>4.276556</td>\n",
       "      <td>6.488372</td>\n",
       "    </tr>\n",
       "    <tr>\n",
       "      <th>1</th>\n",
       "      <td>8.066079</td>\n",
       "      <td>3.207048</td>\n",
       "      <td>7.784141</td>\n",
       "    </tr>\n",
       "  </tbody>\n",
       "</table>\n",
       "</div>"
      ],
      "text/plain": [
       "          happiness   anxiety   lifeSat\n",
       "religion                               \n",
       "0          6.618898  4.276556  6.488372\n",
       "1          8.066079  3.207048  7.784141"
      ]
     },
     "execution_count": 12,
     "metadata": {},
     "output_type": "execute_result"
    }
   ],
   "source": [
    "# those who mention religion in Q6 are happier and less anxious than those who didn't\n",
    "df.groupby('religion').mean()[['happiness', 'anxiety', 'lifeSat']]"
   ]
  },
  {
   "cell_type": "markdown",
   "id": "c2d211ed",
   "metadata": {},
   "source": [
    "## financials\n",
    "### A factor which lowers happiness"
   ]
  },
  {
   "cell_type": "code",
   "execution_count": 13,
   "id": "94ddd933",
   "metadata": {},
   "outputs": [],
   "source": [
    "# create array of words for each happiness 'domain' to group free response questions by\n",
    "money = ['money', 'financially', 'finances', 'debt', 'bills', 'economy']\n",
    "\n",
    "df['money'] = df['Q6'].apply(evalFreeResponse, args=(money,))"
   ]
  },
  {
   "cell_type": "code",
   "execution_count": 14,
   "id": "37cfca6b",
   "metadata": {},
   "outputs": [
    {
     "name": "stdout",
     "output_type": "stream",
     "text": [
      "6.18\n"
     ]
    }
   ],
   "source": [
    "print(len(df[df['money']==1]) / len(df) * 100) # 6% of respondents mentioned money"
   ]
  },
  {
   "cell_type": "code",
   "execution_count": 15,
   "id": "986915ef",
   "metadata": {},
   "outputs": [
    {
     "data": {
      "text/html": [
       "<div>\n",
       "<style scoped>\n",
       "    .dataframe tbody tr th:only-of-type {\n",
       "        vertical-align: middle;\n",
       "    }\n",
       "\n",
       "    .dataframe tbody tr th {\n",
       "        vertical-align: top;\n",
       "    }\n",
       "\n",
       "    .dataframe thead th {\n",
       "        text-align: right;\n",
       "    }\n",
       "</style>\n",
       "<table border=\"1\" class=\"dataframe\">\n",
       "  <thead>\n",
       "    <tr style=\"text-align: right;\">\n",
       "      <th></th>\n",
       "      <th>money</th>\n",
       "    </tr>\n",
       "    <tr>\n",
       "      <th>Age_groups</th>\n",
       "      <th></th>\n",
       "    </tr>\n",
       "  </thead>\n",
       "  <tbody>\n",
       "    <tr>\n",
       "      <th>45+</th>\n",
       "      <td>4.620462</td>\n",
       "    </tr>\n",
       "    <tr>\n",
       "      <th>&lt;45</th>\n",
       "      <td>8.051034</td>\n",
       "    </tr>\n",
       "  </tbody>\n",
       "</table>\n",
       "</div>"
      ],
      "text/plain": [
       "               money\n",
       "Age_groups          \n",
       "45+         4.620462\n",
       "<45         8.051034"
      ]
     },
     "execution_count": 15,
     "metadata": {},
     "output_type": "execute_result"
    }
   ],
   "source": [
    "# younger age group more likely to mention money\n",
    "df.groupby('Age_groups').mean()[['money']] * 100"
   ]
  },
  {
   "cell_type": "code",
   "execution_count": 16,
   "id": "467e80c0",
   "metadata": {},
   "outputs": [
    {
     "data": {
      "text/html": [
       "<div>\n",
       "<style scoped>\n",
       "    .dataframe tbody tr th:only-of-type {\n",
       "        vertical-align: middle;\n",
       "    }\n",
       "\n",
       "    .dataframe tbody tr th {\n",
       "        vertical-align: top;\n",
       "    }\n",
       "\n",
       "    .dataframe thead th {\n",
       "        text-align: right;\n",
       "    }\n",
       "</style>\n",
       "<table border=\"1\" class=\"dataframe\">\n",
       "  <thead>\n",
       "    <tr style=\"text-align: right;\">\n",
       "      <th></th>\n",
       "      <th>money</th>\n",
       "    </tr>\n",
       "    <tr>\n",
       "      <th>MRK_Age</th>\n",
       "      <th></th>\n",
       "    </tr>\n",
       "  </thead>\n",
       "  <tbody>\n",
       "    <tr>\n",
       "      <th>18-24</th>\n",
       "      <td>7.868852</td>\n",
       "    </tr>\n",
       "    <tr>\n",
       "      <th>25-34</th>\n",
       "      <td>7.654921</td>\n",
       "    </tr>\n",
       "    <tr>\n",
       "      <th>35-44</th>\n",
       "      <td>8.571429</td>\n",
       "    </tr>\n",
       "    <tr>\n",
       "      <th>45-54</th>\n",
       "      <td>6.459054</td>\n",
       "    </tr>\n",
       "    <tr>\n",
       "      <th>55-64</th>\n",
       "      <td>4.400440</td>\n",
       "    </tr>\n",
       "    <tr>\n",
       "      <th>65+</th>\n",
       "      <td>3.154574</td>\n",
       "    </tr>\n",
       "  </tbody>\n",
       "</table>\n",
       "</div>"
      ],
      "text/plain": [
       "            money\n",
       "MRK_Age          \n",
       "18-24    7.868852\n",
       "25-34    7.654921\n",
       "35-44    8.571429\n",
       "45-54    6.459054\n",
       "55-64    4.400440\n",
       "65+      3.154574"
      ]
     },
     "execution_count": 16,
     "metadata": {},
     "output_type": "execute_result"
    }
   ],
   "source": [
    "# younger age group more likely to mention money\n",
    "df.groupby('MRK_Age').mean()[['money']] * 100"
   ]
  },
  {
   "cell_type": "code",
   "execution_count": 17,
   "id": "46185b8f",
   "metadata": {},
   "outputs": [
    {
     "data": {
      "text/html": [
       "<div>\n",
       "<style scoped>\n",
       "    .dataframe tbody tr th:only-of-type {\n",
       "        vertical-align: middle;\n",
       "    }\n",
       "\n",
       "    .dataframe tbody tr th {\n",
       "        vertical-align: top;\n",
       "    }\n",
       "\n",
       "    .dataframe thead th {\n",
       "        text-align: right;\n",
       "    }\n",
       "</style>\n",
       "<table border=\"1\" class=\"dataframe\">\n",
       "  <thead>\n",
       "    <tr style=\"text-align: right;\">\n",
       "      <th></th>\n",
       "      <th>happiness</th>\n",
       "      <th>anxiety</th>\n",
       "      <th>lifeSat</th>\n",
       "    </tr>\n",
       "    <tr>\n",
       "      <th>money</th>\n",
       "      <th></th>\n",
       "      <th></th>\n",
       "      <th></th>\n",
       "    </tr>\n",
       "  </thead>\n",
       "  <tbody>\n",
       "    <tr>\n",
       "      <th>0</th>\n",
       "      <td>6.765508</td>\n",
       "      <td>4.169473</td>\n",
       "      <td>6.619910</td>\n",
       "    </tr>\n",
       "    <tr>\n",
       "      <th>1</th>\n",
       "      <td>5.456311</td>\n",
       "      <td>5.116505</td>\n",
       "      <td>5.443366</td>\n",
       "    </tr>\n",
       "  </tbody>\n",
       "</table>\n",
       "</div>"
      ],
      "text/plain": [
       "       happiness   anxiety   lifeSat\n",
       "money                               \n",
       "0       6.765508  4.169473  6.619910\n",
       "1       5.456311  5.116505  5.443366"
      ]
     },
     "execution_count": 17,
     "metadata": {},
     "output_type": "execute_result"
    }
   ],
   "source": [
    "# those who mention money in Q6 are less happy and more anxious than those who didn't\n",
    "df.groupby('money').mean()[['happiness', 'anxiety', 'lifeSat']]"
   ]
  },
  {
   "cell_type": "markdown",
   "id": "ca64cb60",
   "metadata": {},
   "source": [
    "## Health\n",
    "### Not great evidence for having much of an impact on happiness. Possibly because 'health' and 'healthy' can come in negatives i.e. 'not being as healthy as I once was' or something along those lines."
   ]
  },
  {
   "cell_type": "code",
   "execution_count": 18,
   "id": "90e246cc",
   "metadata": {},
   "outputs": [],
   "source": [
    "# create array of words for each happiness 'domain' to group free response questions by\n",
    "health = ['health', 'healthy', 'exercise', 'exercising', 'working out', 'gym', 'being active', 'hiking', 'biking']\n",
    "\n",
    "df['health'] = df['Q6'].apply(evalFreeResponse, args=(health,))"
   ]
  },
  {
   "cell_type": "code",
   "execution_count": 19,
   "id": "ec6bd788",
   "metadata": {},
   "outputs": [
    {
     "name": "stdout",
     "output_type": "stream",
     "text": [
      "6.32\n"
     ]
    }
   ],
   "source": [
    "print(len(df[df['health']==1]) / len(df) * 100) # 6% of respondents mentioned health"
   ]
  },
  {
   "cell_type": "code",
   "execution_count": 20,
   "id": "ee58a940",
   "metadata": {},
   "outputs": [
    {
     "data": {
      "text/html": [
       "<div>\n",
       "<style scoped>\n",
       "    .dataframe tbody tr th:only-of-type {\n",
       "        vertical-align: middle;\n",
       "    }\n",
       "\n",
       "    .dataframe tbody tr th {\n",
       "        vertical-align: top;\n",
       "    }\n",
       "\n",
       "    .dataframe thead th {\n",
       "        text-align: right;\n",
       "    }\n",
       "</style>\n",
       "<table border=\"1\" class=\"dataframe\">\n",
       "  <thead>\n",
       "    <tr style=\"text-align: right;\">\n",
       "      <th></th>\n",
       "      <th>health</th>\n",
       "    </tr>\n",
       "    <tr>\n",
       "      <th>Age_groups</th>\n",
       "      <th></th>\n",
       "    </tr>\n",
       "  </thead>\n",
       "  <tbody>\n",
       "    <tr>\n",
       "      <th>45+</th>\n",
       "      <td>7.737440</td>\n",
       "    </tr>\n",
       "    <tr>\n",
       "      <th>&lt;45</th>\n",
       "      <td>4.619446</td>\n",
       "    </tr>\n",
       "  </tbody>\n",
       "</table>\n",
       "</div>"
      ],
      "text/plain": [
       "              health\n",
       "Age_groups          \n",
       "45+         7.737440\n",
       "<45         4.619446"
      ]
     },
     "execution_count": 20,
     "metadata": {},
     "output_type": "execute_result"
    }
   ],
   "source": [
    "# older age group more likely to mention health / exercise\n",
    "df.groupby('Age_groups').mean()[['health']] * 100"
   ]
  },
  {
   "cell_type": "code",
   "execution_count": 21,
   "id": "2d007e5b",
   "metadata": {},
   "outputs": [
    {
     "data": {
      "text/html": [
       "<div>\n",
       "<style scoped>\n",
       "    .dataframe tbody tr th:only-of-type {\n",
       "        vertical-align: middle;\n",
       "    }\n",
       "\n",
       "    .dataframe tbody tr th {\n",
       "        vertical-align: top;\n",
       "    }\n",
       "\n",
       "    .dataframe thead th {\n",
       "        text-align: right;\n",
       "    }\n",
       "</style>\n",
       "<table border=\"1\" class=\"dataframe\">\n",
       "  <thead>\n",
       "    <tr style=\"text-align: right;\">\n",
       "      <th></th>\n",
       "      <th>happiness</th>\n",
       "      <th>anxiety</th>\n",
       "      <th>lifeSat</th>\n",
       "    </tr>\n",
       "    <tr>\n",
       "      <th>health</th>\n",
       "      <th></th>\n",
       "      <th></th>\n",
       "      <th></th>\n",
       "    </tr>\n",
       "  </thead>\n",
       "  <tbody>\n",
       "    <tr>\n",
       "      <th>0</th>\n",
       "      <td>6.662895</td>\n",
       "      <td>4.260248</td>\n",
       "      <td>6.527754</td>\n",
       "    </tr>\n",
       "    <tr>\n",
       "      <th>1</th>\n",
       "      <td>7.006329</td>\n",
       "      <td>3.750000</td>\n",
       "      <td>6.835443</td>\n",
       "    </tr>\n",
       "  </tbody>\n",
       "</table>\n",
       "</div>"
      ],
      "text/plain": [
       "        happiness   anxiety   lifeSat\n",
       "health                               \n",
       "0        6.662895  4.260248  6.527754\n",
       "1        7.006329  3.750000  6.835443"
      ]
     },
     "execution_count": 21,
     "metadata": {},
     "output_type": "execute_result"
    }
   ],
   "source": [
    "# those who mention money in Q6 are statistically indistinguishable those who didn't\n",
    "df.groupby('health').mean()[['happiness', 'anxiety', 'lifeSat']]"
   ]
  }
 ],
 "metadata": {
  "kernelspec": {
   "display_name": "Python 3",
   "language": "python",
   "name": "python3"
  },
  "language_info": {
   "codemirror_mode": {
    "name": "ipython",
    "version": 3
   },
   "file_extension": ".py",
   "mimetype": "text/x-python",
   "name": "python",
   "nbconvert_exporter": "python",
   "pygments_lexer": "ipython3",
   "version": "3.8.8"
  }
 },
 "nbformat": 4,
 "nbformat_minor": 5
}
