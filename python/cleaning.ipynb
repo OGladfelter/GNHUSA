{
 "cells": [
  {
   "cell_type": "markdown",
   "id": "1d86dff0",
   "metadata": {},
   "source": [
    "# Python for GNHUSA Happiness Report\n",
    "## Author: Oliver Gladfelter\n",
    "## Date: October 2022"
   ]
  },
  {
   "cell_type": "code",
   "execution_count": 1,
   "id": "7a33aee6",
   "metadata": {},
   "outputs": [],
   "source": [
    "import pandas as pd"
   ]
  },
  {
   "cell_type": "markdown",
   "id": "1f4b2fbe",
   "metadata": {},
   "source": [
    "## Remove text from scale responses"
   ]
  },
  {
   "cell_type": "code",
   "execution_count": 2,
   "id": "79a60279",
   "metadata": {},
   "outputs": [],
   "source": [
    "df = pd.read_csv(\"../data/data.csv\")\n",
    "\n",
    "# 10 is labeled as '10 - completely', so let's get rid of that\n",
    "df['lifeSat'] = df['Q5_a__1'].apply(lambda x: int(x.split(' ')[0]))\n",
    "df['worthwhile'] = df['Q5_b__1'].apply(lambda x: float(x.split(' ')[0]))\n",
    "df['happiness'] = df['Q5_c__1'].apply(lambda x: int(x.split(' ')[0]))\n",
    "df['anxiety'] = df['Q5_d__1'].apply(lambda x: int(x.split(' ')[0]))\n",
    "\n",
    "df.to_csv('../data/data.csv', index=False)"
   ]
  },
  {
   "cell_type": "code",
   "execution_count": 13,
   "id": "ce8d7a97",
   "metadata": {},
   "outputs": [],
   "source": [
    "df = pd.read_csv(\"../data/data.csv\")"
   ]
  },
  {
   "cell_type": "code",
   "execution_count": 21,
   "id": "f54d2f50",
   "metadata": {},
   "outputs": [
    {
     "name": "stdout",
     "output_type": "stream",
     "text": [
      "2.316386256447251\n",
      "6.5472\n",
      "2.4943069485191227\n",
      "6.6846\n",
      "2.977681869821506\n",
      "4.228\n"
     ]
    }
   ],
   "source": [
    "print(df.std()['lifeSat'])\n",
    "print(df.mean()['lifeSat'])\n",
    "print(df.std()['happiness'])\n",
    "print(df.mean()['happiness'])\n",
    "print(df.std()['anxiety'])\n",
    "print(df.mean()['anxiety'])"
   ]
  },
  {
   "cell_type": "markdown",
   "id": "5dc6d428",
   "metadata": {},
   "source": [
    "## Compute life satisfaction averages for each age"
   ]
  },
  {
   "cell_type": "code",
   "execution_count": 53,
   "id": "40639a51",
   "metadata": {},
   "outputs": [],
   "source": [
    "# get average life satisfaction score for each age\n",
    "age_and_happiness = df[['Q2','lifeSat']].groupby('Q2').mean().reset_index()\n",
    "age_and_happiness.to_csv('../data/age_and_happiness.csv', index=False) # save as new dataset"
   ]
  },
  {
   "cell_type": "markdown",
   "id": "07c893ca",
   "metadata": {},
   "source": [
    "## State averages"
   ]
  },
  {
   "cell_type": "code",
   "execution_count": 44,
   "id": "6abb43e7",
   "metadata": {},
   "outputs": [
    {
     "name": "stdout",
     "output_type": "stream",
     "text": [
      "lifeSat\n",
      "                lifeSat\n",
      "State                  \n",
      "Delaware           7.12\n",
      "Georgia            7.11\n",
      "South Carolina     7.09\n",
      "Florida            7.01\n",
      "South Dakota       6.92\n",
      "Wisconsin          6.85\n",
      "New York           6.83\n",
      "North Dakota       6.83\n",
      "Nebraska           6.83\n",
      "North Carolina     6.81\n",
      "California         6.79\n",
      "Alabama            6.78\n",
      "New Jersey         6.77\n",
      "Illinois           6.76\n",
      "Arizona            6.71\n",
      "Michigan           6.67\n",
      "Tennessee          6.66\n",
      "Montana            6.65\n",
      "Virginia           6.62\n",
      "Maryland           6.62\n",
      "Kentucky           6.62\n",
      "Missouri           6.61\n",
      "Nevada             6.59\n",
      "Louisiana          6.57\n",
      "Wyoming            6.52\n",
      "Indiana            6.51\n",
      "New Mexico         6.51\n",
      "Iowa               6.49\n",
      "Utah               6.45\n",
      "Idaho              6.45\n",
      "Mississippi        6.44\n",
      "Ohio               6.43\n",
      "Minnesota          6.43\n",
      "Colorado           6.42\n",
      "Alaska             6.40\n",
      "Texas              6.40\n",
      "Pennsylvania       6.38\n",
      "Massachusetts      6.37\n",
      "Vermont            6.37\n",
      "New Hampshire      6.32\n",
      "Arkansas           6.32\n",
      "Kansas             6.31\n",
      "Hawaii             6.31\n",
      "Maine              6.28\n",
      "Connecticut        6.25\n",
      "West Virginia      6.24\n",
      "Rhode Island       6.16\n",
      "Washington         6.16\n",
      "Oklahoma           5.83\n",
      "Oregon             5.79\n",
      "\n",
      "worthwhile\n",
      "                worthwhile\n",
      "State                     \n",
      "Georgia               7.54\n",
      "South Carolina        7.50\n",
      "Florida               7.44\n",
      "Louisiana             7.30\n",
      "Wisconsin             7.30\n",
      "Delaware              7.28\n",
      "Nebraska              7.24\n",
      "New York              7.23\n",
      "Tennessee             7.22\n",
      "South Dakota          7.21\n",
      "Illinois              7.21\n",
      "New Jersey            7.21\n",
      "Maryland              7.16\n",
      "Nevada                7.08\n",
      "Arizona               7.05\n",
      "Alabama               7.04\n",
      "North Carolina        7.03\n",
      "California            7.00\n",
      "Kentucky              7.00\n",
      "Michigan              6.98\n",
      "Ohio                  6.96\n",
      "Montana               6.96\n",
      "North Dakota          6.94\n",
      "Pennsylvania          6.94\n",
      "Wyoming               6.88\n",
      "Minnesota             6.86\n",
      "Virginia              6.85\n",
      "Mississippi           6.85\n",
      "New Mexico            6.84\n",
      "Connecticut           6.84\n",
      "Hawaii                6.84\n",
      "Missouri              6.83\n",
      "Idaho                 6.82\n",
      "Arkansas              6.80\n",
      "West Virginia         6.80\n",
      "Maine                 6.79\n",
      "Massachusetts         6.78\n",
      "Rhode Island          6.73\n",
      "New Hampshire         6.66\n",
      "Colorado              6.65\n",
      "Utah                  6.61\n",
      "Indiana               6.60\n",
      "Iowa                  6.59\n",
      "Texas                 6.57\n",
      "Vermont               6.57\n",
      "Alaska                6.52\n",
      "Kansas                6.50\n",
      "Oklahoma              6.44\n",
      "Washington            6.43\n",
      "Oregon                6.15\n",
      "\n",
      "happiness\n",
      "                happiness\n",
      "State                    \n",
      "Georgia              7.43\n",
      "Delaware             7.23\n",
      "South Carolina       7.14\n",
      "Illinois             7.10\n",
      "Nevada               7.09\n",
      "North Carolina       7.07\n",
      "Nebraska             7.07\n",
      "Wisconsin            7.00\n",
      "Alabama              6.99\n",
      "New Jersey           6.96\n",
      "Maryland             6.94\n",
      "Ohio                 6.94\n",
      "Virginia             6.89\n",
      "Montana              6.89\n",
      "Arizona              6.89\n",
      "California           6.89\n",
      "South Dakota         6.88\n",
      "Florida              6.88\n",
      "Tennessee            6.83\n",
      "Arkansas             6.80\n",
      "New York             6.79\n",
      "Missouri             6.75\n",
      "Rhode Island         6.71\n",
      "Louisiana            6.69\n",
      "Michigan             6.68\n",
      "Minnesota            6.68\n",
      "North Dakota         6.68\n",
      "Massachusetts        6.67\n",
      "New Mexico           6.65\n",
      "Mississippi          6.64\n",
      "Hawaii               6.62\n",
      "Pennsylvania         6.60\n",
      "Wyoming              6.57\n",
      "New Hampshire        6.55\n",
      "Maine                6.54\n",
      "Kentucky             6.53\n",
      "Idaho                6.52\n",
      "Utah                 6.48\n",
      "Vermont              6.48\n",
      "Indiana              6.43\n",
      "Alaska               6.37\n",
      "Colorado             6.35\n",
      "Iowa                 6.33\n",
      "Kansas               6.33\n",
      "Texas                6.30\n",
      "West Virginia        6.27\n",
      "Connecticut          6.16\n",
      "Washington           6.15\n",
      "Oklahoma             6.11\n",
      "Oregon               5.69\n",
      "\n",
      "anxiety\n",
      "                anxiety\n",
      "State                  \n",
      "Alabama            4.99\n",
      "Texas              4.88\n",
      "Oklahoma           4.84\n",
      "Vermont            4.77\n",
      "Kansas             4.69\n",
      "Connecticut        4.66\n",
      "Georgia            4.62\n",
      "Kentucky           4.61\n",
      "Indiana            4.47\n",
      "Illinois           4.43\n",
      "Wyoming            4.42\n",
      "Washington         4.41\n",
      "New Mexico         4.35\n",
      "Colorado           4.35\n",
      "Massachusetts      4.33\n",
      "Pennsylvania       4.33\n",
      "West Virginia      4.32\n",
      "Oregon             4.31\n",
      "Arizona            4.30\n",
      "Alaska             4.29\n",
      "Utah               4.27\n",
      "Rhode Island       4.26\n",
      "Maryland           4.26\n",
      "Tennessee          4.26\n",
      "Louisiana          4.25\n",
      "Minnesota          4.23\n",
      "Missouri           4.23\n",
      "Arkansas           4.20\n",
      "Iowa               4.16\n",
      "Mississippi        4.15\n",
      "New York           4.14\n",
      "South Carolina     4.13\n",
      "Maine              4.12\n",
      "Michigan           4.09\n",
      "Idaho              4.08\n",
      "North Dakota       4.08\n",
      "Florida            4.06\n",
      "New Hampshire      4.05\n",
      "California         4.04\n",
      "Virginia           4.01\n",
      "Wisconsin          4.01\n",
      "Ohio               3.99\n",
      "South Dakota       3.94\n",
      "Nebraska           3.92\n",
      "Nevada             3.87\n",
      "Montana            3.73\n",
      "North Carolina     3.69\n",
      "Delaware           3.68\n",
      "New Jersey         3.60\n",
      "Hawaii             3.53\n",
      "\n"
     ]
    }
   ],
   "source": [
    "for e in ['lifeSat','worthwhile','happiness','anxiety']:\n",
    "    print(e)\n",
    "    print(df[['State',e]].groupby('State').mean().sort_values(e,ascending=False).head(50))\n",
    "    print()"
   ]
  },
  {
   "cell_type": "code",
   "execution_count": 21,
   "id": "e9a77015",
   "metadata": {},
   "outputs": [],
   "source": [
    "stateData = df.groupby('State').mean()[['lifeSat','worthwhile','happiness','anxiety']].reset_index()"
   ]
  },
  {
   "cell_type": "code",
   "execution_count": null,
   "id": "04c7f8a8",
   "metadata": {},
   "outputs": [],
   "source": [
    "lifeSatRank = 1\n",
    "stateData['lifeSatRank'] = 0\n",
    "for i in stateData.sort_values('lifeSat', ascending = False).index:\n",
    "    stateData['lifeSatRank'][i] = lifeSatRank\n",
    "    lifeSatRank += 1\n",
    "    \n",
    "worthwhileRank = 1\n",
    "stateData['worthwhileRank'] = 0\n",
    "for i in stateData.sort_values('worthwhile', ascending = False).index:\n",
    "    stateData['worthwhileRank'][i] = worthwhileRank\n",
    "    worthwhileRank += 1\n",
    "    \n",
    "happyRank = 1\n",
    "stateData['happyRank'] = 0\n",
    "for i in stateData.sort_values('happiness', ascending = False).index:\n",
    "    stateData['happyRank'][i] = happyRank\n",
    "    happyRank += 1\n",
    "    \n",
    "anxietyRank = 1\n",
    "stateData['anxietyRank'] = 0\n",
    "for i in stateData.sort_values('anxiety', ascending = False).index:\n",
    "    stateData['anxietyRank'][i] = anxietyRank\n",
    "    anxietyRank += 1"
   ]
  },
  {
   "cell_type": "code",
   "execution_count": 46,
   "id": "79f72152",
   "metadata": {},
   "outputs": [],
   "source": [
    "abbreviations = pd.read_csv(\"../data/stateCodes.csv\")\n",
    "abbreviations = abbreviations[['State','Code']]"
   ]
  },
  {
   "cell_type": "code",
   "execution_count": 50,
   "id": "f52be8f4",
   "metadata": {},
   "outputs": [],
   "source": [
    "stateDataWithCode = abbreviations.merge(stateData)"
   ]
  },
  {
   "cell_type": "code",
   "execution_count": 52,
   "id": "a1a011f4",
   "metadata": {},
   "outputs": [],
   "source": [
    "stateDataWithCode.to_csv(\"../data/stateData.csv\", index=False)"
   ]
  },
  {
   "cell_type": "markdown",
   "id": "0c22617f",
   "metadata": {},
   "source": [
    "## Standard deviation and mean for life satisfaction by state"
   ]
  },
  {
   "cell_type": "code",
   "execution_count": 18,
   "id": "91f248f3",
   "metadata": {},
   "outputs": [
    {
     "name": "stdout",
     "output_type": "stream",
     "text": [
      "0.3349587284265216\n",
      "6.524270300000003\n"
     ]
    }
   ],
   "source": [
    "states = pd.read_csv('../data/stateData.csv')\n",
    "print(states.std()['lifeSat'])\n",
    "print(states.mean()['lifeSat'])"
   ]
  },
  {
   "cell_type": "markdown",
   "id": "f3e1b711",
   "metadata": {},
   "source": [
    "## Aggregate contributions data and assign titles to each contributor"
   ]
  },
  {
   "cell_type": "code",
   "execution_count": 32,
   "id": "fa15aca6",
   "metadata": {},
   "outputs": [],
   "source": [
    "def rank(value):\n",
    "    if value >= 1000:\n",
    "        return 'Happiness Pioneer'\n",
    "    elif value >= 500:\n",
    "        return 'Happiness Champion'\n",
    "    elif value >= 250:\n",
    "        return 'Happiness Innovator'\n",
    "    elif value >= 100:\n",
    "        return 'Happiness Activist'\n",
    "    else:\n",
    "        return 'Other'\n",
    "    \n",
    "# donation data\n",
    "donations = pd.read_csv(\"../data/contributions.csv\")\n",
    "donations = donations[['Name', 'Amount', 'Email']]\n",
    "donations['Amount'] = donations['Amount'].replace('[\\$,]', '', regex=True).astype(float)\n",
    "donations = donations.groupby(['Name', 'Email']).sum().reset_index().sort_values('Amount', ascending=False)\n",
    "donations['title'] = donations['Amount'].apply(rank)\n",
    "donations = donations[['Name','title']]\n",
    "donations.to_csv(\"../data/contributions.csv\", index=False)\n",
    "\n",
    "donations.to_csv(\"../data/contributions.csv\", index=False)"
   ]
  }
 ],
 "metadata": {
  "kernelspec": {
   "display_name": "Python 3",
   "language": "python",
   "name": "python3"
  },
  "language_info": {
   "codemirror_mode": {
    "name": "ipython",
    "version": 3
   },
   "file_extension": ".py",
   "mimetype": "text/x-python",
   "name": "python",
   "nbconvert_exporter": "python",
   "pygments_lexer": "ipython3",
   "version": "3.8.8"
  }
 },
 "nbformat": 4,
 "nbformat_minor": 5
}
