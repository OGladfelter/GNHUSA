{
 "cells": [
  {
   "cell_type": "code",
   "execution_count": 1,
   "id": "7a33aee6",
   "metadata": {},
   "outputs": [],
   "source": [
    "import pandas as pd"
   ]
  },
  {
   "cell_type": "code",
   "execution_count": 51,
   "id": "79a60279",
   "metadata": {},
   "outputs": [],
   "source": [
    "df = pd.read_csv(\"../data/data.csv\")\n",
    "\n",
    "# 10 is labeled as '10 - completely', so let's get rid of that\n",
    "df['lifeSat'] = df['Q5_a__1'].apply(lambda x: int(x.split(' ')[0]))\n",
    "df['happiness'] = df['Q5_c__1'].apply(lambda x: int(x.split(' ')[0]))\n",
    "df['anxiety'] = df['Q5_d__1'].apply(lambda x: int(x.split(' ')[0]))\n",
    "\n",
    "df.to_csv('../data/data.csv', index=False)"
   ]
  },
  {
   "cell_type": "code",
   "execution_count": 53,
   "id": "40639a51",
   "metadata": {},
   "outputs": [],
   "source": [
    "# get average happiness score for each age\n",
    "age_and_happiness = df[['Q2','lifeSat']].groupby('Q2').mean().reset_index()\n",
    "age_and_happiness.to_csv('../data/age_and_happiness.csv', index=False) # save as new dataset"
   ]
  },
  {
   "cell_type": "code",
   "execution_count": 32,
   "id": "fa15aca6",
   "metadata": {},
   "outputs": [],
   "source": [
    "def rank(value):\n",
    "    if value >= 1000:\n",
    "        return 'Happiness Pioneer'\n",
    "    elif value >= 500:\n",
    "        return 'Happiness Champion'\n",
    "    elif value >= 250:\n",
    "        return 'Happiness Innovator'\n",
    "    elif value >= 100:\n",
    "        return 'Happiness Activist'\n",
    "    else:\n",
    "        return 'Other'"
   ]
  },
  {
   "cell_type": "code",
   "execution_count": 19,
   "id": "804f7c16",
   "metadata": {},
   "outputs": [],
   "source": [
    "# donation data\n",
    "donations = pd.read_csv(\"../data/contributions.csv\")\n",
    "donations = donations[['Name', 'Amount', 'Email']]\n",
    "donations['Amount'] = donations['Amount'].replace('[\\$,]', '', regex=True).astype(float)\n",
    "donations = donations.groupby(['Name', 'Email']).sum().reset_index().sort_values('Amount', ascending=False)\n",
    "donations['title'] = donations['Amount'].apply(rank)\n",
    "donations = donations[['Name','title']]\n",
    "donations.to_csv(\"../data/contributions.csv\", index=False)"
   ]
  },
  {
   "cell_type": "code",
   "execution_count": 38,
   "id": "539233c4",
   "metadata": {},
   "outputs": [],
   "source": [
    "donations.to_csv(\"../data/contributions.csv\", index=False)"
   ]
  }
 ],
 "metadata": {
  "kernelspec": {
   "display_name": "Python 3",
   "language": "python",
   "name": "python3"
  },
  "language_info": {
   "codemirror_mode": {
    "name": "ipython",
    "version": 3
   },
   "file_extension": ".py",
   "mimetype": "text/x-python",
   "name": "python",
   "nbconvert_exporter": "python",
   "pygments_lexer": "ipython3",
   "version": "3.8.8"
  }
 },
 "nbformat": 4,
 "nbformat_minor": 5
}
