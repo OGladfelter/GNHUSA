{
 "cells": [
  {
   "cell_type": "markdown",
   "id": "1d86dff0",
   "metadata": {},
   "source": [
    "# Python for GNHUSA Happiness Report\n",
    "## Author: Oliver Gladfelter\n",
    "## Date: October 2022"
   ]
  },
  {
   "cell_type": "code",
   "execution_count": 2,
   "id": "7a33aee6",
   "metadata": {},
   "outputs": [],
   "source": [
    "import pandas as pd"
   ]
  },
  {
   "cell_type": "markdown",
   "id": "1f4b2fbe",
   "metadata": {},
   "source": [
    "## Remove text from scale responses"
   ]
  },
  {
   "cell_type": "code",
   "execution_count": 51,
   "id": "79a60279",
   "metadata": {},
   "outputs": [],
   "source": [
    "df = pd.read_csv(\"../data/data.csv\")\n",
    "\n",
    "# 10 is labeled as '10 - completely', so let's get rid of that\n",
    "df['lifeSat'] = df['Q5_a__1'].apply(lambda x: int(x.split(' ')[0]))\n",
    "df['happiness'] = df['Q5_c__1'].apply(lambda x: int(x.split(' ')[0]))\n",
    "df['anxiety'] = df['Q5_d__1'].apply(lambda x: int(x.split(' ')[0]))\n",
    "\n",
    "df.to_csv('../data/data.csv', index=False)"
   ]
  },
  {
   "cell_type": "code",
   "execution_count": 13,
   "id": "ce8d7a97",
   "metadata": {},
   "outputs": [],
   "source": [
    "df = pd.read_csv(\"../data/data.csv\")"
   ]
  },
  {
   "cell_type": "code",
   "execution_count": 21,
   "id": "f54d2f50",
   "metadata": {},
   "outputs": [
    {
     "name": "stdout",
     "output_type": "stream",
     "text": [
      "2.316386256447251\n",
      "6.5472\n",
      "2.4943069485191227\n",
      "6.6846\n",
      "2.977681869821506\n",
      "4.228\n"
     ]
    }
   ],
   "source": [
    "print(df.std()['lifeSat'])\n",
    "print(df.mean()['lifeSat'])\n",
    "print(df.std()['happiness'])\n",
    "print(df.mean()['happiness'])\n",
    "print(df.std()['anxiety'])\n",
    "print(df.mean()['anxiety'])"
   ]
  },
  {
   "cell_type": "markdown",
   "id": "5dc6d428",
   "metadata": {},
   "source": [
    "## Compute life satisfaction averages for each age"
   ]
  },
  {
   "cell_type": "code",
   "execution_count": 53,
   "id": "40639a51",
   "metadata": {},
   "outputs": [],
   "source": [
    "# get average life satisfaction score for each age\n",
    "age_and_happiness = df[['Q2','lifeSat']].groupby('Q2').mean().reset_index()\n",
    "age_and_happiness.to_csv('../data/age_and_happiness.csv', index=False) # save as new dataset"
   ]
  },
  {
   "cell_type": "markdown",
   "id": "0c22617f",
   "metadata": {},
   "source": [
    "## Standard deviation and mean for life satisfaction by state"
   ]
  },
  {
   "cell_type": "code",
   "execution_count": 18,
   "id": "91f248f3",
   "metadata": {},
   "outputs": [
    {
     "name": "stdout",
     "output_type": "stream",
     "text": [
      "0.3349587284265216\n",
      "6.524270300000003\n"
     ]
    }
   ],
   "source": [
    "states = pd.read_csv('../data/stateData.csv')\n",
    "print(states.std()['lifeSat'])\n",
    "print(states.mean()['lifeSat'])"
   ]
  },
  {
   "cell_type": "markdown",
   "id": "f3e1b711",
   "metadata": {},
   "source": [
    "## Aggregate contributions data and assign titles to each contributor"
   ]
  },
  {
   "cell_type": "code",
   "execution_count": 32,
   "id": "fa15aca6",
   "metadata": {},
   "outputs": [],
   "source": [
    "def rank(value):\n",
    "    if value >= 1000:\n",
    "        return 'Happiness Pioneer'\n",
    "    elif value >= 500:\n",
    "        return 'Happiness Champion'\n",
    "    elif value >= 250:\n",
    "        return 'Happiness Innovator'\n",
    "    elif value >= 100:\n",
    "        return 'Happiness Activist'\n",
    "    else:\n",
    "        return 'Other'\n",
    "    \n",
    "# donation data\n",
    "donations = pd.read_csv(\"../data/contributions.csv\")\n",
    "donations = donations[['Name', 'Amount', 'Email']]\n",
    "donations['Amount'] = donations['Amount'].replace('[\\$,]', '', regex=True).astype(float)\n",
    "donations = donations.groupby(['Name', 'Email']).sum().reset_index().sort_values('Amount', ascending=False)\n",
    "donations['title'] = donations['Amount'].apply(rank)\n",
    "donations = donations[['Name','title']]\n",
    "donations.to_csv(\"../data/contributions.csv\", index=False)\n",
    "\n",
    "donations.to_csv(\"../data/contributions.csv\", index=False)"
   ]
  }
 ],
 "metadata": {
  "kernelspec": {
   "display_name": "Python 3",
   "language": "python",
   "name": "python3"
  },
  "language_info": {
   "codemirror_mode": {
    "name": "ipython",
    "version": 3
   },
   "file_extension": ".py",
   "mimetype": "text/x-python",
   "name": "python",
   "nbconvert_exporter": "python",
   "pygments_lexer": "ipython3",
   "version": "3.8.8"
  }
 },
 "nbformat": 4,
 "nbformat_minor": 5
}
