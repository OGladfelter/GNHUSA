{
 "cells": [
  {
   "cell_type": "code",
   "execution_count": 2,
   "id": "7a33aee6",
   "metadata": {},
   "outputs": [],
   "source": [
    "import pandas as pd"
   ]
  },
  {
   "cell_type": "code",
   "execution_count": 3,
   "id": "79a60279",
   "metadata": {},
   "outputs": [],
   "source": [
    "df = pd.read_csv(\"data/data.csv\")"
   ]
  },
  {
   "cell_type": "code",
   "execution_count": 7,
   "id": "3312aa1e",
   "metadata": {},
   "outputs": [],
   "source": [
    "# 10 is labeled as '10 - completely', so let's get rid of that\n",
    "df['happiness'] = df['Q5_c__1'].apply(lambda x: int(x.split(' ')[0]))"
   ]
  },
  {
   "cell_type": "code",
   "execution_count": 4,
   "id": "73ac8c76",
   "metadata": {},
   "outputs": [],
   "source": [
    "df['anxiety'] = df['Q5_d__1'].apply(lambda x: int(x.split(' ')[0]))"
   ]
  },
  {
   "cell_type": "code",
   "execution_count": 5,
   "id": "cf632649",
   "metadata": {},
   "outputs": [],
   "source": [
    "df.to_csv('data/data.csv', index=False)"
   ]
  },
  {
   "cell_type": "code",
   "execution_count": 15,
   "id": "40639a51",
   "metadata": {},
   "outputs": [],
   "source": [
    "# get average happiness score for each age\n",
    "age_and_happiness = df[['Q2','happiness']].groupby('Q2').mean().reset_index()\n",
    "age_and_happiness.to_csv('data/age_and_happiness.csv', index=False) # save as new dataset"
   ]
  }
 ],
 "metadata": {
  "kernelspec": {
   "display_name": "Python 3",
   "language": "python",
   "name": "python3"
  },
  "language_info": {
   "codemirror_mode": {
    "name": "ipython",
    "version": 3
   },
   "file_extension": ".py",
   "mimetype": "text/x-python",
   "name": "python",
   "nbconvert_exporter": "python",
   "pygments_lexer": "ipython3",
   "version": "3.8.8"
  }
 },
 "nbformat": 4,
 "nbformat_minor": 5
}
